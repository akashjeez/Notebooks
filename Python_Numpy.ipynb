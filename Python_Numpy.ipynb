{
  "nbformat": 4,
  "nbformat_minor": 0,
  "metadata": {
    "colab": {
      "name": "Python_Numpy.ipynb",
      "provenance": [],
      "collapsed_sections": [],
      "authorship_tag": "ABX9TyNBs1o2+5Aind0BaFP5qcXH",
      "include_colab_link": true
    },
    "kernelspec": {
      "name": "python3",
      "display_name": "Python 3"
    },
    "language_info": {
      "name": "python"
    }
  },
  "cells": [
    {
      "cell_type": "markdown",
      "metadata": {
        "id": "view-in-github",
        "colab_type": "text"
      },
      "source": [
        "<a href=\"https://colab.research.google.com/github/akashjeez/Notebooks/blob/main/Python_Numpy.ipynb\" target=\"_parent\"><img src=\"https://colab.research.google.com/assets/colab-badge.svg\" alt=\"Open In Colab\"/></a>"
      ]
    },
    {
      "cell_type": "markdown",
      "metadata": {
        "id": "yDifCblrsUlC"
      },
      "source": [
        " **Python Numpy**\n",
        "- NumPy -> Numerical Python (Numerical Analysis Computing Package).\n",
        "- Core Library for Scientific Computing in Python.\n",
        "- Provides High Performance Multi-Dimensional Array Object and Tools for Working with these Arrays.\n",
        "- Advantages of Numpy over List are Less Memory, Fast and Convenient.\n",
        "- Mathematical and Logical Operations on Arrays can be Performed.\n",
        "- Functions for Working in Domain of Linear Algebra, Fourier Transform, and Matrices.\n",
        "- Numpy Operations: Find Dimension of Array, Find Byte Size of Each Element, Find Data Type of the Elements, Find Size and Shape of an Array, Reshaping, Slicing.\n",
        "- General DataType of Numpy is int8,16,32,64 etc, float64, U means Unicode String, S means String etc.\n"
      ]
    },
    {
      "cell_type": "markdown",
      "metadata": {
        "id": "2yxLTaZNxE1O"
      },
      "source": [
        "**Reference**\n",
        "\n",
        "- <a href = 'https://numpy.org/doc/stable/' target = '_blank'> NumPy </a> \n",
        "| <a href = 'https://w3schools.com/python/numpy/numpy_intro.asp' target = '_blank'> W3Schools </a>\n",
        "| <a href = 'https://tutorialspoint.com/numpy/index.htm' target = '_blank'> Tutorials Point </a>\n",
        "| <a href = 'https://realpython.com/numpy-tutorial/' target = '_blank'> Real Python </a>\n",
        "| <a href = 'https://datacamp.com/community/tutorials/python-numpy-tutorial' target = '_blank'> Data Camp </a>\n",
        "| <a href = 'https://javatpoint.com/numpy-tutorial' target = '_blank'> JavaTPoint </a>\n",
        "| <a href = 'https://edureka.co/blog/python-numpy-tutorial/' target = '_blank'> Edureka </a>\n",
        "| <a href= 'https://learnpython.org/en/Numpy_Arrays' target = '_blank'> Learn Python </a>\n",
        "| <a href= 'https://geeksforgeeks.org/python-numpy/' target = '_blank'> Geeks For Geeks </a>\n",
        "| <a href= 'https://guru99.com/numpy-tutorial.html' target = '_blank'> Guru99 </a>"
      ]
    },
    {
      "cell_type": "code",
      "metadata": {
        "colab": {
          "base_uri": "https://localhost:8080/"
        },
        "id": "XD-RRjA0sD_x",
        "outputId": "24781388-3f41-4aec-96bb-662f51a425a3"
      },
      "source": [
        "!pip install numpy --upgrade"
      ],
      "execution_count": 11,
      "outputs": [
        {
          "output_type": "stream",
          "text": [
            "Requirement already up-to-date: numpy in /usr/local/lib/python3.7/dist-packages (1.21.0)\n"
          ],
          "name": "stdout"
        }
      ]
    },
    {
      "cell_type": "code",
      "metadata": {
        "id": "G6x5GRY-sKQh"
      },
      "source": [
        "import os, sys, time\n",
        "import numpy as np"
      ],
      "execution_count": 2,
      "outputs": []
    },
    {
      "cell_type": "code",
      "metadata": {
        "id": "YXGOnQxUsu8d"
      },
      "source": [
        "## Set Seed for Reproducibility to Receive the Exact Same Results Every Time.\n",
        "np.random.seed(seed = 1234)"
      ],
      "execution_count": 3,
      "outputs": []
    },
    {
      "cell_type": "code",
      "metadata": {
        "colab": {
          "base_uri": "https://localhost:8080/"
        },
        "id": "f6UfPRb_tAYc",
        "outputId": "07f3ba7a-d7a3-4496-8c5f-c7704781da26"
      },
      "source": [
        "## Scalar | 0 D Tensor | A Single Value.\n",
        "x = np.array(6)\n",
        "print(f'x = { x }')\n",
        "print(f'x ndim = { x.ndim }') # Get Number of Dimensions\n",
        "print(f'x shape = { x.shape }') # Get Dimensions\n",
        "print(f'x size = { x.size } ') # Get Size of Elements\n",
        "print(f'x dtype = { x.dtype } ') # Get DataType"
      ],
      "execution_count": 4,
      "outputs": [
        {
          "output_type": "stream",
          "text": [
            "x = 6\n",
            "x ndim = 0\n",
            "x shape = ()\n",
            "x size = 1 \n",
            "x dtype = int64 \n"
          ],
          "name": "stdout"
        }
      ]
    },
    {
      "cell_type": "code",
      "metadata": {
        "colab": {
          "base_uri": "https://localhost:8080/"
        },
        "id": "1ocXzXDitkyH",
        "outputId": "c032b84d-ffef-46a1-c2f6-6e530c4f2316"
      },
      "source": [
        "## Vector | 1 D Tensor | Row or Column of Values.\n",
        "x = np.array( [1.3 , 2.2 , 1.7] )\n",
        "print(f'x = { x }')\n",
        "print(f'x ndim = { x.ndim }') # Get Number of Dimensions\n",
        "print(f'x shape = { x.shape }') # Get Dimensions\n",
        "print(f'x size = { x.size } ') # Get Size of Elements\n",
        "print(f'x dtype = { x.dtype } ') # Get DataType"
      ],
      "execution_count": 5,
      "outputs": [
        {
          "output_type": "stream",
          "text": [
            "x = [1.3 2.2 1.7]\n",
            "x ndim = 1\n",
            "x shape = (3,)\n",
            "x size = 3 \n",
            "x dtype = float64 \n"
          ],
          "name": "stdout"
        }
      ]
    },
    {
      "cell_type": "code",
      "metadata": {
        "colab": {
          "base_uri": "https://localhost:8080/"
        },
        "id": "JvaIScNXt9yI",
        "outputId": "ab8d598b-da62-4a11-c1ef-dfd79cf78688"
      },
      "source": [
        "## Matrix | 2 D Tensor | Arrays (Row and Column) of Values.\n",
        "x = np.array( [ [1, 2], [3, 4] ] )\n",
        "print(f'x = \\n{ x }')\n",
        "print(f'x ndim = { x.ndim }') # Get Number of Dimensions\n",
        "print(f'x shape = { x.shape }') # Get Dimensions\n",
        "print(f'x size = { x.size } ') # Get Size of Elements\n",
        "print(f'x dtype = { x.dtype } ') # Get DataType"
      ],
      "execution_count": 6,
      "outputs": [
        {
          "output_type": "stream",
          "text": [
            "x = \n",
            "[[1 2]\n",
            " [3 4]]\n",
            "x ndim = 2\n",
            "x shape = (2, 2)\n",
            "x size = 4 \n",
            "x dtype = int64 \n"
          ],
          "name": "stdout"
        }
      ]
    },
    {
      "cell_type": "code",
      "metadata": {
        "colab": {
          "base_uri": "https://localhost:8080/"
        },
        "id": "qbMyqCvouqBT",
        "outputId": "81353ac3-6218-4aae-82cc-3ec7ddc73174"
      },
      "source": [
        "## 3 D Tensor | Array of Arrays (Row and Column) of Values.\n",
        "x = np.array( [ [ [1, 2], [3, 4] ], [ [5, 6], [7, 8] ] ] )\n",
        "print(f'x = \\n{ x }')\n",
        "print(f'x ndim = { x.ndim }') # Get Number of Dimensions\n",
        "print(f'x shape = { x.shape }') # Get Dimensions\n",
        "print(f'x size = { x.size } ') # Get Size of Elements\n",
        "print(f'x dtype = { x.dtype } ') # Get DataType"
      ],
      "execution_count": 10,
      "outputs": [
        {
          "output_type": "stream",
          "text": [
            "x = \n",
            "[[[1 2]\n",
            "  [3 4]]\n",
            "\n",
            " [[5 6]\n",
            "  [7 8]]]\n",
            "x ndim = 3\n",
            "x shape = (2, 2, 2)\n",
            "x size = 8 \n",
            "x dtype = int64 \n"
          ],
          "name": "stdout"
        }
      ]
    },
    {
      "cell_type": "code",
      "metadata": {
        "id": "sHGzjbX5vK40"
      },
      "source": [
        "np.zeros"
      ],
      "execution_count": null,
      "outputs": []
    },
    {
      "cell_type": "code",
      "metadata": {
        "id": "ayTBZdoPvHUP"
      },
      "source": [
        ""
      ],
      "execution_count": null,
      "outputs": []
    },
    {
      "cell_type": "code",
      "metadata": {
        "id": "FiHyQPWdvDJu"
      },
      "source": [
        ""
      ],
      "execution_count": null,
      "outputs": []
    },
    {
      "cell_type": "code",
      "metadata": {
        "id": "Xyz53ltru-me"
      },
      "source": [
        ""
      ],
      "execution_count": null,
      "outputs": []
    },
    {
      "cell_type": "code",
      "metadata": {
        "id": "t2JulzXysq0f"
      },
      "source": [
        ""
      ],
      "execution_count": null,
      "outputs": []
    }
  ]
}